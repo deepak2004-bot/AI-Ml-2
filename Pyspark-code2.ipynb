{
  "nbformat": 4,
  "nbformat_minor": 0,
  "metadata": {
    "colab": {
      "provenance": []
    },
    "kernelspec": {
      "name": "python3",
      "display_name": "Python 3"
    },
    "language_info": {
      "name": "python"
    }
  },
  "cells": [
    {
      "cell_type": "code",
      "source": [
        "from pyspark.sql import SparkSession\n",
        "spark = SparkSession.builder.appName(\"StudentAssignment\").getOrCreate()"
      ],
      "metadata": {
        "id": "K7OAcxTqCce_"
      },
      "execution_count": 6,
      "outputs": []
    },
    {
      "cell_type": "code",
      "source": [
        "data = [\n",
        "(1, \"Alice\", \"Engineering\", 65000),\n",
        "(2, \"Bob\", \"Marketing\", 58000),\n",
        "(3, \"Charlie\", \"Sales\", 52000),\n",
        "(4, \"David\", \"Engineering\", 72000),\n",
        "(5, \"Eve\", \"Sales\", 54000)\n",
        "]"
      ],
      "metadata": {
        "id": "r8pfjZWMCjHO"
      },
      "execution_count": 7,
      "outputs": []
    },
    {
      "cell_type": "code",
      "source": [
        "schema = [\"ID\", \"Name\", \"Department\", \"Salary\"]\n",
        "df = spark.createDataFrame(data, schema=schema)\n",
        "df.show()"
      ],
      "metadata": {
        "colab": {
          "base_uri": "https://localhost:8080/"
        },
        "id": "_J_SZypeCofn",
        "outputId": "673418d1-51eb-4b2e-c06a-f6d0d7b17e45"
      },
      "execution_count": 8,
      "outputs": [
        {
          "output_type": "stream",
          "name": "stdout",
          "text": [
            "+---+-------+-----------+------+\n",
            "| ID|   Name| Department|Salary|\n",
            "+---+-------+-----------+------+\n",
            "|  1|  Alice|Engineering| 65000|\n",
            "|  2|    Bob|  Marketing| 58000|\n",
            "|  3|Charlie|      Sales| 52000|\n",
            "|  4|  David|Engineering| 72000|\n",
            "|  5|    Eve|      Sales| 54000|\n",
            "+---+-------+-----------+------+\n",
            "\n"
          ]
        }
      ]
    },
    {
      "cell_type": "code",
      "source": [
        "df.printSchema()"
      ],
      "metadata": {
        "colab": {
          "base_uri": "https://localhost:8080/"
        },
        "id": "MiLQ5zIVCsJ8",
        "outputId": "d0213bf7-8c8e-427b-a3a0-658cb3ba0901"
      },
      "execution_count": 9,
      "outputs": [
        {
          "output_type": "stream",
          "name": "stdout",
          "text": [
            "root\n",
            " |-- ID: long (nullable = true)\n",
            " |-- Name: string (nullable = true)\n",
            " |-- Department: string (nullable = true)\n",
            " |-- Salary: long (nullable = true)\n",
            "\n"
          ]
        }
      ]
    },
    {
      "cell_type": "code",
      "source": [
        "df.filter(df[\"Salary\"] > 60000).show()"
      ],
      "metadata": {
        "colab": {
          "base_uri": "https://localhost:8080/"
        },
        "id": "TUliUqqbC6kA",
        "outputId": "75fe25fe-1851-4ae6-f0df-6671fd70788b"
      },
      "execution_count": 10,
      "outputs": [
        {
          "output_type": "stream",
          "name": "stdout",
          "text": [
            "+---+-----+-----------+------+\n",
            "| ID| Name| Department|Salary|\n",
            "+---+-----+-----------+------+\n",
            "|  1|Alice|Engineering| 65000|\n",
            "|  4|David|Engineering| 72000|\n",
            "+---+-----+-----------+------+\n",
            "\n"
          ]
        }
      ]
    },
    {
      "cell_type": "code",
      "source": [
        "df.groupBy(\"Department\").count().show()"
      ],
      "metadata": {
        "colab": {
          "base_uri": "https://localhost:8080/"
        },
        "id": "eoObAoQfC93W",
        "outputId": "ca1a2706-7908-4a3a-bb2d-bb57b3555033"
      },
      "execution_count": 11,
      "outputs": [
        {
          "output_type": "stream",
          "name": "stdout",
          "text": [
            "+-----------+-----+\n",
            "| Department|count|\n",
            "+-----------+-----+\n",
            "|Engineering|    2|\n",
            "|  Marketing|    1|\n",
            "|      Sales|    2|\n",
            "+-----------+-----+\n",
            "\n"
          ]
        }
      ]
    },
    {
      "cell_type": "code",
      "source": [
        "df.groupBy(\"Department\").avg(\"Salary\").show()"
      ],
      "metadata": {
        "colab": {
          "base_uri": "https://localhost:8080/"
        },
        "id": "oi6CVdsbDH0O",
        "outputId": "77127d90-66e7-4dfc-fadb-7684c6ed2742"
      },
      "execution_count": 12,
      "outputs": [
        {
          "output_type": "stream",
          "name": "stdout",
          "text": [
            "+-----------+-----------+\n",
            "| Department|avg(Salary)|\n",
            "+-----------+-----------+\n",
            "|Engineering|    68500.0|\n",
            "|  Marketing|    58000.0|\n",
            "|      Sales|    53000.0|\n",
            "+-----------+-----------+\n",
            "\n"
          ]
        }
      ]
    },
    {
      "cell_type": "code",
      "source": [],
      "metadata": {
        "id": "7EcJgdLzDNef"
      },
      "execution_count": null,
      "outputs": []
    }
  ]
}